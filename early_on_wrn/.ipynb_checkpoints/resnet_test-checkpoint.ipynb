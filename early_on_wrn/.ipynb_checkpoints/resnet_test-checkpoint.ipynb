{
 "cells": [
  {
   "cell_type": "code",
   "execution_count": 1,
   "metadata": {},
   "outputs": [],
   "source": [
    "# !rm -rf ./wide_resnet_poly_4/val"
   ]
  },
  {
   "cell_type": "code",
   "execution_count": 2,
   "metadata": {
    "ExecuteTime": {
     "end_time": "2019-07-11T16:32:39.821170Z",
     "start_time": "2019-07-11T16:32:37.914813Z"
    }
   },
   "outputs": [],
   "source": [
    "import numpy as np\n",
    "import tensorflow as tf"
   ]
  },
  {
   "cell_type": "code",
   "execution_count": 3,
   "metadata": {
    "ExecuteTime": {
     "end_time": "2019-07-11T16:32:42.890924Z",
     "start_time": "2019-07-11T16:32:39.824381Z"
    }
   },
   "outputs": [],
   "source": [
    "%run ./datagen.py\n",
    "\n",
    "datagen, (x_train, y_train), (x_test, y_test) = data_preparation()"
   ]
  },
  {
   "cell_type": "code",
   "execution_count": 4,
   "metadata": {
    "ExecuteTime": {
     "end_time": "2019-07-11T16:32:42.896696Z",
     "start_time": "2019-07-11T16:32:42.893922Z"
    }
   },
   "outputs": [],
   "source": [
    "path_model = './wide_mixnet_poly/'\n",
    "test = True\n",
    "k = 4"
   ]
  },
  {
   "cell_type": "code",
   "execution_count": 5,
   "metadata": {},
   "outputs": [],
   "source": [
    "# def act(x, i):\n",
    "    \n",
    "# #     y = tf.math.polyval([0.12775111, 0.48709023, 0.30508906], x)\n",
    "\n",
    "#     if i == 1:\n",
    "#         y = tf.math.polyval([0.32151661, 0.49775602, 0.12350393], x)\n",
    "# #         y = tf.nn.relu(x)\n",
    "#     elif i == 2:\n",
    "#         y = tf.math.polyval([0.15060764, 0.49911386, 0.26389601], x)\n",
    "# #         y = tf.nn.relu(x)\n",
    "#     elif i == 3:\n",
    "#         y = tf.math.polyval([0.12234829, 0.49132487, 0.32127634], x)\n",
    "# #         y = tf.nn.relu(x)\n",
    "#     elif i == 4:\n",
    "#         y = tf.math.polyval([0.14833134, 0.4864861,  0.26231578], x)\n",
    "# #         y = tf.nn.relu(x)\n",
    "#     elif i == 5:\n",
    "#         y = tf.math.polyval([0.13113742, 0.49954892, 0.30331744], x)\n",
    "# #         y = tf.nn.relu(x)\n",
    "#     else:\n",
    "#         y = tf.math.polyval([0.06568586, 0.49967003, 0.60524462], x)\n",
    "# #         y = tf.nn.relu(x)\n",
    "\n",
    "#     return y"
   ]
  },
  {
   "cell_type": "code",
   "execution_count": 6,
   "metadata": {},
   "outputs": [],
   "source": [
    "# def act(x, i):\n",
    "    \n",
    "#     # ax^2 + bx + c\n",
    "        \n",
    "#     if i == 1:\n",
    "#         first_coef = tf.Variable(0.31931543, trainable=True, name='first_coef', dtype=tf.float32)\n",
    "#         second_coef = tf.Variable(0.49708712, trainable=True, name='second_coef', dtype=tf.float32)\n",
    "#         third_coef = tf.Variable(0.12422738, trainable=True, name='third_coef', dtype=tf.float32)\n",
    "#         y = tf.math.polyval([first_coef, second_coef, third_coef], x)\n",
    "        \n",
    "#     elif i == 2:\n",
    "#         first_coef = tf.Variable(0.14951853, trainable=True, name='first_coef', dtype=tf.float32)\n",
    "#         second_coef = tf.Variable(0.49850001, trainable=True, name='second_coef', dtype=tf.float32)\n",
    "#         third_coef = tf.Variable(0.26582837, trainable=True, name='third_coef', dtype=tf.float32)\n",
    "#         y = tf.math.polyval([first_coef, second_coef, third_coef], x)\n",
    "        \n",
    "#     elif i == 3:\n",
    "#         first_coef = tf.Variable(0.16431344, trainable=True, name='first_coef', dtype=tf.float32)\n",
    "#         second_coef = tf.Variable(0.48894203, trainable=True, name='second_coef', dtype=tf.float32)\n",
    "#         third_coef = tf.Variable(0.23802768, trainable=True, name='third_coef', dtype=tf.float32)\n",
    "#         y = tf.math.polyval([first_coef, second_coef, third_coef], x)\n",
    "\n",
    "#     elif i == 4:\n",
    "#         first_coef = tf.Variable(0.14941755, trainable=True, name='first_coef', dtype=tf.float32)\n",
    "#         second_coef = tf.Variable(0.48750084, trainable=True, name='second_coef', dtype=tf.float32)\n",
    "#         third_coef = tf.Variable(0.26098495, trainable=True, name='third_coef', dtype=tf.float32)\n",
    "#         y = tf.math.polyval([first_coef, second_coef, third_coef], x)\n",
    "\n",
    "#     elif i == 5:\n",
    "#         first_coef = tf.Variable(0.10792727, trainable=True, name='first_coef', dtype=tf.float32)\n",
    "#         second_coef = tf.Variable(0.48113492, trainable=True, name='second_coef', dtype=tf.float32)\n",
    "#         third_coef = tf.Variable(0.35588625, trainable=True, name='third_coef', dtype=tf.float32)\n",
    "#         y = tf.math.polyval([first_coef, second_coef, third_coef], x)\n",
    "\n",
    "#     else:\n",
    "#         first_coef = tf.Variable(0.07860769, trainable=True, name='first_coef', dtype=tf.float32)\n",
    "#         second_coef = tf.Variable(0.49907132, trainable=True, name='second_coef', dtype=tf.float32)\n",
    "#         third_coef = tf.Variable(0.50563614, trainable=True, name='third_coef', dtype=tf.float32)\n",
    "#         y = tf.math.polyval([first_coef, second_coef, third_coef], x)\n",
    "\n",
    "#     return y"
   ]
  },
  {
   "cell_type": "code",
   "execution_count": 7,
   "metadata": {
    "ExecuteTime": {
     "end_time": "2019-07-11T16:32:42.961842Z",
     "start_time": "2019-07-11T16:32:42.916892Z"
    }
   },
   "outputs": [],
   "source": [
    "# # resnet layer\n",
    "# def res_layer(inputs, filter_num, filter_size, stride, is_train, activation_num, \n",
    "#               batch_norm=True, activation=True):\n",
    "\n",
    "#     x = inputs\n",
    "        \n",
    "\n",
    "#     if batch_norm:\n",
    "#         x = tf.layers.batch_normalization(x, training=is_train)\n",
    "# #         tf.summary.histogram('Before_Act', x)\n",
    "# #         tf.summary.scalar('std', tf.math.reduce_std(x))\n",
    "# #         tf.summary.scalar('mean', tf.math.reduce_mean(x))\n",
    "# #         tf.summary.scalar('size', tf.size(x))\n",
    "#     if activation:          \n",
    "#         x = act(x, activation_num)\n",
    "# #         tf.summary.histogram('After_Act', x)\n",
    "#     x = tf.layers.conv2d(inputs=x, filters=filter_num,  \n",
    "#                          kernel_size=filter_size, strides=stride, padding='same')\n",
    "        \n",
    "#     return x"
   ]
  },
  {
   "cell_type": "code",
   "execution_count": null,
   "metadata": {},
   "outputs": [],
   "source": [
    "# resnet layer\n",
    "def res_layer(inputs, filter_num, filter_size, stride, is_train,\n",
    "              batch_norm=True, activation=True):\n",
    "\n",
    "    x = inputs\n",
    "\n",
    "    if batch_norm:\n",
    "        x = tf.layers.batch_normalization(x, training=is_train)\n",
    "    if activation:\n",
    "        x = tf.nn.relu(x)\n",
    "    x = tf.layers.conv2d(inputs=x, filters=filter_num, \n",
    "                         kernel_initializer=initializer, \n",
    "                         kernel_size=filter_size, strides=stride, padding='same')\n",
    "        \n",
    "    return x"
   ]
  },
  {
   "cell_type": "code",
   "execution_count": 8,
   "metadata": {
    "ExecuteTime": {
     "end_time": "2019-07-11T16:32:42.961842Z",
     "start_time": "2019-07-11T16:32:42.916892Z"
    }
   },
   "outputs": [],
   "source": [
    "# def wide_resnet(inputs, k, is_train):\n",
    "\n",
    "#     with tf.variable_scope(\"1st_Conv\"):\n",
    "#         x = tf.layers.conv2d(inputs=inputs, filters=16, \n",
    "#                              kernel_size=3, strides=1, padding='same')\n",
    "#         x = tf.layers.batch_normalization(x, training=is_train)\n",
    "# #         tf.summary.histogram('After_BN', x)\n",
    "#         x = tf.nn.relu(x)        \n",
    "\n",
    "#     # Res Blocks\n",
    "#     a = [1, 1, 1]\n",
    "#     act_num = 0\n",
    "\n",
    "#     for stack in range(len(a)):\n",
    "#         for block in range(a[stack]):\n",
    "\n",
    "#             with tf.variable_scope('ResBlock_%d_%d' % (stack+1, block+1)):\n",
    "\n",
    "#                 batch_norm = True\n",
    "#                 activation = True\n",
    "#                 stride = 1\n",
    "#                 filter_num = 16*k*(2**stack)\n",
    "#                 if stack == 0:\n",
    "#                     if block == 0:\n",
    "#                         batch_norm = False\n",
    "#                         activation = False\n",
    "#                 else:  \n",
    "#                     if block == 0:\n",
    "#                         stride = 2\n",
    "\n",
    "#                 shortcut = x\n",
    "#                 with tf.variable_scope('conv1'):\n",
    "#                     x = res_layer(x, filter_num, 3, stride, is_train, act_num, \n",
    "#                                   batch_norm=batch_norm, activation=activation)\n",
    "#                     act_num += 1\n",
    "                    \n",
    "#                 x = tf.layers.dropout(x, 0.1)\n",
    "                \n",
    "#                 with tf.variable_scope('conv2'):\n",
    "#                     x = res_layer(x, filter_num, 3, 1, is_train, act_num)\n",
    "#                     act_num += 1\n",
    "                \n",
    "#                 with tf.variable_scope('x_plus_shortcut'):\n",
    "#                     if block == 0:\n",
    "#                         shortcut = tf.layers.conv2d(inputs=shortcut, filters=filter_num, \n",
    "#                                                     kernel_size=1, strides=stride, padding='same')\n",
    "#                     x = x + shortcut\n",
    "    \n",
    "#     with tf.variable_scope(\"AfterResBlock\"):\n",
    "#         x = tf.layers.batch_normalization(x, training=is_train)\n",
    "# #         tf.summary.histogram('Before_Act', x)\n",
    "# #         tf.summary.scalar('std', tf.math.reduce_std(x))\n",
    "# #         tf.summary.scalar('mean', tf.math.reduce_mean(x))\n",
    "# #         tf.summary.scalar('size', tf.size(x))\n",
    "#         x = act(x, act_num)\n",
    "# #         tf.summary.histogram('After_Act', x)\n",
    "#         x = tf.layers.average_pooling2d(x, pool_size=8, strides=8, padding='SAME', name='ave_pool')\n",
    "        \n",
    "#     with tf.variable_scope(\"Flatten\"):\n",
    "#         x = tf.transpose(x, perm=[0, 3, 1, 2])\n",
    "#         x = tf.layers.flatten(x)\n",
    "    \n",
    "#     # crrent x.shape = (?, 256)\n",
    "#     with tf.variable_scope(\"Prediction\"):\n",
    "#         pred = tf.layers.dense(x, units=10)\n",
    "#         tf.summary.histogram('prediction', pred)\n",
    "        \n",
    "#     return pred"
   ]
  },
  {
   "cell_type": "code",
   "execution_count": null,
   "metadata": {},
   "outputs": [],
   "source": [
    "def wide_mixnet(inputs, k, is_train):\n",
    "\n",
    "    with tf.variable_scope(\"1st_Conv\"):\n",
    "        x = tf.layers.conv2d(inputs=inputs, filters=16, \n",
    "                             kernel_initializer=initializer, \n",
    "                             kernel_size=3, strides=1, padding='same')\n",
    "        x = tf.layers.batch_normalization(x, training=is_train)\n",
    "        x = tf.nn.relu(x)\n",
    "    \n",
    "    x_temp_0 = x\n",
    "    \n",
    "    with tf.variable_scope('ResBlock_%d_%d' % (1, 1)):\n",
    "        \n",
    "        with tf.variable_scope('conv1'):\n",
    "            x = res_layer(x, 16*k, 3, 1, is_train, \n",
    "                          batch_norm=False, activation=False)\n",
    "                    \n",
    "        x = tf.layers.dropout(x, 0.1)\n",
    "                \n",
    "        with tf.variable_scope('conv2'):\n",
    "            x = res_layer(x, 16*k, 3, 1, is_train)\n",
    "    \n",
    "        with tf.variable_scope('x_plus_shortcut'):\n",
    "            shortcut = tf.layers.conv2d(inputs=x_temp_0, filters=16*k, \n",
    "                                        kernel_size=1, strides=1, padding='same')\n",
    "            x = x + shortcut             \n",
    "        \n",
    "    x_temp_1 = x\n",
    "    \n",
    "    with tf.variable_scope('ResBlock_%d_%d' % (2, 1)):\n",
    "        \n",
    "        with tf.variable_scope('conv1'):\n",
    "            x = res_layer(x, 32*k, 3, 2, is_train)\n",
    "                    \n",
    "        x = tf.layers.dropout(x, 0.1)\n",
    "                \n",
    "        with tf.variable_scope('conv2'):\n",
    "            x = res_layer(x, 32*k, 3, 1, is_train)\n",
    "            \n",
    "        with tf.variable_scope('x_plus_shortcut'):\n",
    "            shortcut = tf.layers.conv2d(inputs=x_temp_0, filters=32*k, \n",
    "                                        kernel_size=1, strides=2, padding='same')\n",
    "            x = x + shortcut\n",
    "            \n",
    "            shortcut = tf.layers.conv2d(inputs=x_temp_1, filters=32*k, \n",
    "                                        kernel_size=1, strides=2, padding='same')\n",
    "            x = x + shortcut\n",
    "        \n",
    "    x_temp_2 = x    \n",
    "    \n",
    "    with tf.variable_scope('ResBlock_%d_%d' % (3, 1)):\n",
    "        \n",
    "        with tf.variable_scope('conv1'):\n",
    "            x = res_layer(x, 64*k, 3, 2, is_train)\n",
    "                    \n",
    "        x = tf.layers.dropout(x, 0.1)\n",
    "                \n",
    "        with tf.variable_scope('conv2'):\n",
    "            x = res_layer(x, 64*k, 3, 1, is_train)\n",
    "            \n",
    "        with tf.variable_scope('x_plus_shortcut'):\n",
    "            \n",
    "            shortcut = tf.layers.conv2d(inputs=x_temp_0, filters=64*k, \n",
    "                                        kernel_size=1, strides=4, padding='same')\n",
    "            x = x + shortcut\n",
    "\n",
    "            shortcut = tf.layers.conv2d(inputs=x_temp_1, filters=64*k, \n",
    "                                        kernel_size=1, strides=4, padding='same')\n",
    "            x = x + shortcut\n",
    "\n",
    "            shortcut = tf.layers.conv2d(inputs=x_temp_2, filters=64*k, \n",
    "                                        kernel_size=1, strides=2, padding='same')\n",
    "            x = x + shortcut\n",
    "\n",
    "    with tf.variable_scope(\"AfterResBlock\"):\n",
    "        x = tf.layers.batch_normalization(x, training=is_train)\n",
    "        x = tf.square(x)\n",
    "        x = tf.layers.average_pooling2d(x, pool_size=8, strides=8, padding='SAME', name='ave_pool')\n",
    "\n",
    "    with tf.variable_scope(\"Flatten\"):\n",
    "        x = tf.transpose(x, perm=[0, 3, 1, 2])\n",
    "        x = tf.layers.flatten(x)\n",
    "\n",
    "    with tf.variable_scope(\"Prediction\"):\n",
    "        pred = tf.layers.dense(x, units=10, kernel_initializer=initializer)\n",
    "        \n",
    "    return pred"
   ]
  },
  {
   "cell_type": "code",
   "execution_count": 9,
   "metadata": {
    "ExecuteTime": {
     "end_time": "2019-07-11T16:32:45.227843Z",
     "start_time": "2019-07-11T16:32:42.963915Z"
    },
    "collapsed": true
   },
   "outputs": [
    {
     "name": "stdout",
     "output_type": "stream",
     "text": [
      "WARNING:tensorflow:From <ipython-input-8-a0beee4afc05>:5: conv2d (from tensorflow.python.layers.convolutional) is deprecated and will be removed in a future version.\n",
      "Instructions for updating:\n",
      "Use keras.layers.conv2d instead.\n",
      "WARNING:tensorflow:From /usr/local/lib/python3.5/dist-packages/tensorflow/python/framework/op_def_library.py:263: colocate_with (from tensorflow.python.framework.ops) is deprecated and will be removed in a future version.\n",
      "Instructions for updating:\n",
      "Colocations handled automatically by placer.\n",
      "WARNING:tensorflow:From <ipython-input-8-a0beee4afc05>:6: batch_normalization (from tensorflow.python.layers.normalization) is deprecated and will be removed in a future version.\n",
      "Instructions for updating:\n",
      "Use keras.layers.batch_normalization instead.\n",
      "WARNING:tensorflow:From <ipython-input-8-a0beee4afc05>:37: dropout (from tensorflow.python.layers.core) is deprecated and will be removed in a future version.\n",
      "Instructions for updating:\n",
      "Use keras.layers.dropout instead.\n",
      "WARNING:tensorflow:From <ipython-input-8-a0beee4afc05>:57: average_pooling2d (from tensorflow.python.layers.pooling) is deprecated and will be removed in a future version.\n",
      "Instructions for updating:\n",
      "Use keras.layers.average_pooling2d instead.\n",
      "WARNING:tensorflow:From <ipython-input-8-a0beee4afc05>:61: flatten (from tensorflow.python.layers.core) is deprecated and will be removed in a future version.\n",
      "Instructions for updating:\n",
      "Use keras.layers.flatten instead.\n",
      "WARNING:tensorflow:From <ipython-input-8-a0beee4afc05>:65: dense (from tensorflow.python.layers.core) is deprecated and will be removed in a future version.\n",
      "Instructions for updating:\n",
      "Use keras.layers.dense instead.\n"
     ]
    }
   ],
   "source": [
    "import os\n",
    "os.environ[\"CUDA_VISIBLE_DEVICES\"]=\"9\"\n",
    "\n",
    "with tf.device(\"/gpu:9\"):\n",
    "    inputs = tf.placeholder(tf.float32, [None, 32, 32, 3], name='input')\n",
    "    outputs = tf.placeholder(tf.float32, [None, 10], name='output')\n",
    "    is_train = tf.placeholder(tf.bool, name='is_train')\n",
    "\n",
    "    pred = wide_mixnet(inputs, k, is_train)\n",
    "    correct_pred = tf.equal(tf.argmax(pred, 1), tf.argmax(outputs, 1))\n",
    "    accuracy = tf.reduce_mean(tf.cast(correct_pred, tf.float32))\n",
    "\n",
    "    merged = tf.summary.merge_all()\n",
    "\n",
    "    saver = tf.train.Saver(tf.global_variables())"
   ]
  },
  {
   "cell_type": "code",
   "execution_count": 10,
   "metadata": {
    "ExecuteTime": {
     "end_time": "2019-07-11T16:32:52.996460Z",
     "start_time": "2019-07-11T16:32:45.233613Z"
    }
   },
   "outputs": [
    {
     "name": "stdout",
     "output_type": "stream",
     "text": [
      "*****************Test stage*****************\n",
      "WARNING:tensorflow:From /usr/local/lib/python3.5/dist-packages/tensorflow/python/training/saver.py:1266: checkpoint_exists (from tensorflow.python.training.checkpoint_management) is deprecated and will be removed in a future version.\n",
      "Instructions for updating:\n",
      "Use standard file APIs to check for files with this prefix.\n",
      "INFO:tensorflow:Restoring parameters from ./wide_resnet_poly_10_2ndtrain/cifar10.ckpt-440500\n",
      "Test accuracy: 0.9214\n"
     ]
    }
   ],
   "source": [
    "config = tf.ConfigProto(allow_soft_placement=True, log_device_placement=True)\n",
    "config.gpu_options.allow_growth = True\n",
    "\n",
    "start_num = 0\n",
    "if test:\n",
    "    start_num = 5000\n",
    "\n",
    "with tf.Session(config=config) as sess: \n",
    "    print('*****************Test stage*****************')\n",
    "    saver.restore(sess, path_model+'cifar10.ckpt-440500')\n",
    "#     test_writer = tf.summary.FileWriter(path_model+'test')\n",
    "\n",
    "    testaccs = []\n",
    "    for i in range(10):\n",
    "        test_acc, prediction = sess.run([accuracy, pred], \n",
    "                                {inputs: x_test[start_num+500*i:start_num+500*(i+1)], \n",
    "                                 outputs: y_test[start_num+500*i:start_num+500*(i+1)], \n",
    "                                 is_train: False})\n",
    "#         test_writer.add_summary(summary, i)\n",
    "#         print(prediction)\n",
    "        testaccs.append(test_acc)\n",
    "\n",
    "    print('Test accuracy: {:.4f}'.format(np.mean(testaccs)))"
   ]
  },
  {
   "cell_type": "code",
   "execution_count": 11,
   "metadata": {
    "ExecuteTime": {
     "end_time": "2019-07-11T16:32:53.037131Z",
     "start_time": "2019-07-11T16:32:53.029861Z"
    }
   },
   "outputs": [],
   "source": [
    "# W = np.array([[1.5,2.4,-2.5],[5.1,-3.5,9.4]])\n",
    "# W_b = tf.sign(W)\n",
    "# alpha = tf.round(tf.norm(W, ord=1)/tf.cast(tf.size(W), tf.float64))\n",
    "\n",
    "# Wc = tf.clip_by_value(W, -1, 1)\n",
    "# Wb = tf.where(tf.greater_equal(Wc, 0.), tf.ones_like(Wc), -tf.ones_like(Wc))\n",
    "\n",
    "# with tf.Session() as sess:\n",
    "#     print(sess.run(alpha))\n",
    "#     print(sess.run(W_b))\n",
    "#     print(sess.run(alpha*(W+(W_b-W))))\n",
    "#     print(sess.run(Wb))\n",
    "#     print(sess.run(Wc))"
   ]
  },
  {
   "cell_type": "code",
   "execution_count": 12,
   "metadata": {},
   "outputs": [],
   "source": [
    "# a = [(1,2), (3, 4)]\n",
    "# b = [(i+1, j+1) if i > 1 else (i, j) for i,j in a]"
   ]
  },
  {
   "cell_type": "code",
   "execution_count": 13,
   "metadata": {},
   "outputs": [],
   "source": [
    "# a = tf.Variable(3.1, dtype=tf.float16)\n",
    "# b = tf.Variable(6., dtype=tf.float16)\n",
    "\n",
    "# with tf.Session() as sess:\n",
    "#     sess.run(tf.global_variables_initializer())\n",
    "#     print(sess.run(a + b))"
   ]
  },
  {
   "cell_type": "code",
   "execution_count": null,
   "metadata": {},
   "outputs": [],
   "source": []
  }
 ],
 "metadata": {
  "hide_input": false,
  "kernelspec": {
   "display_name": "Python 3",
   "language": "python",
   "name": "python3"
  },
  "language_info": {
   "codemirror_mode": {
    "name": "ipython",
    "version": 3
   },
   "file_extension": ".py",
   "mimetype": "text/x-python",
   "name": "python",
   "nbconvert_exporter": "python",
   "pygments_lexer": "ipython3",
   "version": "3.5.2"
  },
  "toc": {
   "base_numbering": 1,
   "nav_menu": {},
   "number_sections": true,
   "sideBar": true,
   "skip_h1_title": false,
   "title_cell": "Table of Contents",
   "title_sidebar": "Contents",
   "toc_cell": false,
   "toc_position": {},
   "toc_section_display": true,
   "toc_window_display": false
  },
  "varInspector": {
   "cols": {
    "lenName": 16,
    "lenType": 16,
    "lenVar": 40
   },
   "kernels_config": {
    "python": {
     "delete_cmd_postfix": "",
     "delete_cmd_prefix": "del ",
     "library": "var_list.py",
     "varRefreshCmd": "print(var_dic_list())"
    },
    "r": {
     "delete_cmd_postfix": ") ",
     "delete_cmd_prefix": "rm(",
     "library": "var_list.r",
     "varRefreshCmd": "cat(var_dic_list()) "
    }
   },
   "types_to_exclude": [
    "module",
    "function",
    "builtin_function_or_method",
    "instance",
    "_Feature"
   ],
   "window_display": false
  }
 },
 "nbformat": 4,
 "nbformat_minor": 2
}
